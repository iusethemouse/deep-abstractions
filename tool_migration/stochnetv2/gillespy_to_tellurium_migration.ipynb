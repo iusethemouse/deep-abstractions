{
 "cells": [
  {
   "cell_type": "markdown",
   "id": "0a5efc2d",
   "metadata": {},
   "source": [
    "# GillesPy2 -> Tellurium training dataset generation"
   ]
  },
  {
   "cell_type": "markdown",
   "id": "acc42833",
   "metadata": {},
   "source": [
    "In this notebook, we use StochNetV2's dataset generation process as the target for Tellurium's dataset generation process.\n",
    "\n",
    "Since the complexity of StochNetV2's implementation is rather high, and at this stage we simply aim to be able to use Tellurium's stochastic simulation trajectories as input for StochNetV2 models, it is enough to somehow craft a bridge between the two instead of modifying StochNetV2's code to accept Tellurium's data format."
   ]
  },
  {
   "cell_type": "markdown",
   "id": "c24aa2e4",
   "metadata": {},
   "source": [
    "## StochNetV2's GillesPy2 generation"
   ]
  },
  {
   "cell_type": "code",
   "execution_count": 112,
   "id": "c9d70952",
   "metadata": {},
   "outputs": [
    {
     "name": "stdout",
     "output_type": "stream",
     "text": [
      "The autoreload extension is already loaded. To reload it, use:\n",
      "  %reload_ext autoreload\n"
     ]
    }
   ],
   "source": [
    "%load_ext autoreload\n",
    "%autoreload 2"
   ]
  },
  {
   "cell_type": "code",
   "execution_count": 129,
   "id": "b311e0c5",
   "metadata": {},
   "outputs": [],
   "source": [
    "from stochnet_v2.dataset.simulation_gillespy import build_simulation_dataset\n",
    "from stochnet_v2.utils.file_organisation import ProjectFileExplorer\n",
    "\n",
    "import tellurium as te\n",
    "\n",
    "# other\n",
    "from pathlib import Path\n",
    "import numpy as np\n",
    "from importlib import import_module\n",
    "import pandas as pd"
   ]
  },
  {
   "cell_type": "code",
   "execution_count": 166,
   "id": "353d30a3",
   "metadata": {},
   "outputs": [],
   "source": [
    "# StochNetV2 dataset configuration\n",
    "name = \"SIR\"\n",
    "n_species = 3\n",
    "params = [\"beta\", \"gamma\"]\n",
    "\n",
    "model_name = name\n",
    "nb_settings = len(params)\n",
    "nb_trajectories = 2\n",
    "timestep = 0.1\n",
    "endtime = 1.0\n",
    "dataset_id = name\n",
    "\n",
    "project_folder = Path(\"\").parent.resolve() / model_name\n",
    "project_explorer = ProjectFileExplorer(project_folder)\n",
    "dataset_explorer = project_explorer.get_dataset_file_explorer(timestep, dataset_id)"
   ]
  },
  {
   "cell_type": "code",
   "execution_count": 167,
   "id": "e806a0b9",
   "metadata": {},
   "outputs": [],
   "source": [
    "# Generate and save initial settings\n",
    "CRN_module = import_module(model_name)\n",
    "CRN_class = getattr(CRN_module, model_name)\n",
    "\n",
    "settings = CRN_class.get_initial_settings(nb_settings)\n",
    "np.save(dataset_explorer.settings_fp, settings)"
   ]
  },
  {
   "cell_type": "code",
   "execution_count": 172,
   "id": "5bf1defe",
   "metadata": {},
   "outputs": [
    {
     "name": "stderr",
     "output_type": "stream",
     "text": [
      "100%|█████████████████████████████████████████████████████████████████████████████████████████████████████████████████████████████████████████████████████████████| 2/2 [00:00<00:00, 1280.31it/s]\n"
     ]
    }
   ],
   "source": [
    "# StochNetV2 dataset generation\n",
    "dataset = build_simulation_dataset(\n",
    "    model_name,\n",
    "    nb_settings,\n",
    "    nb_trajectories,\n",
    "    timestep,\n",
    "    endtime,\n",
    "    dataset_explorer.dataset_folder,\n",
    "    params_to_randomize=params,\n",
    "    how=\"concat\",\n",
    ")"
   ]
  },
  {
   "cell_type": "code",
   "execution_count": 173,
   "id": "087d9c8e",
   "metadata": {},
   "outputs": [
    {
     "name": "stdout",
     "output_type": "stream",
     "text": [
      "shape: (4, 11, 6)\n",
      "- 4: 2 initial settings (1 per parameter), 2 trajectories (1 per initial setting)\n",
      "- 11: time steps from 0.0 to 1.0 with step size 0.1\n",
      "- 6: time + 3 species + 2 parameters\n"
     ]
    }
   ],
   "source": [
    "print(f\"shape: {dataset.shape}\")\n",
    "print(\"- 4: 2 initial settings (1 per parameter), 2 trajectories (1 per initial setting)\")\n",
    "print(\"- 11: time steps from 0.0 to 1.0 with step size 0.1\")\n",
    "print(\"- 6: time + 3 species + 2 parameters\")"
   ]
  },
  {
   "cell_type": "code",
   "execution_count": 178,
   "id": "44944030",
   "metadata": {},
   "outputs": [
    {
     "name": "stdout",
     "output_type": "stream",
     "text": [
      "two initial settings, one trajectory for each (note the randomised parameter values):\n",
      "\n",
      "    time      S      I      R      beta  gamma\n",
      "0    0.0  173.0  106.0  117.0  2.607408    1.0\n",
      "1    0.1  171.0  120.0  105.0  2.607408    1.0\n",
      "2    0.2  166.0  142.0   88.0  2.607408    1.0\n",
      "3    0.3  157.0  158.0   81.0  2.607408    1.0\n",
      "4    0.4  144.0  173.0   79.0  2.607408    1.0\n",
      "5    0.5  136.0  185.0   75.0  2.607408    1.0\n",
      "6    0.6  131.0  195.0   70.0  2.607408    1.0\n",
      "7    0.7  119.0  214.0   63.0  2.607408    1.0\n",
      "8    0.8  113.0  225.0   58.0  2.607408    1.0\n",
      "9    0.9  115.0  233.0   48.0  2.607408    1.0\n",
      "10   1.0  107.0  241.0   48.0  2.607408    1.0 \n",
      "\n",
      "    time      S      I      R      beta  gamma\n",
      "0    0.0  173.0  106.0  117.0  2.607408    1.0\n",
      "1    0.1  180.0  116.0  100.0  2.607408    1.0\n",
      "2    0.2  171.0  133.0   92.0  2.607408    1.0\n",
      "3    0.3  163.0  153.0   80.0  2.607408    1.0\n",
      "4    0.4  158.0  164.0   74.0  2.607408    1.0\n",
      "5    0.5  156.0  176.0   64.0  2.607408    1.0\n",
      "6    0.6  151.0  184.0   61.0  2.607408    1.0\n",
      "7    0.7  136.0  202.0   58.0  2.607408    1.0\n",
      "8    0.8  127.0  216.0   53.0  2.607408    1.0\n",
      "9    0.9  117.0  229.0   50.0  2.607408    1.0\n",
      "10   1.0  111.0  240.0   45.0  2.607408    1.0 \n",
      "\n",
      "    time     S      I      R  beta     gamma\n",
      "0    0.0  54.0  132.0  130.0   3.0  0.855712\n",
      "1    0.1  53.0  139.0  124.0   3.0  0.855712\n",
      "2    0.2  54.0  142.0  120.0   3.0  0.855712\n",
      "3    0.3  53.0  148.0  115.0   3.0  0.855712\n",
      "4    0.4  57.0  152.0  107.0   3.0  0.855712\n",
      "5    0.5  56.0  156.0  104.0   3.0  0.855712\n",
      "6    0.6  59.0  161.0   96.0   3.0  0.855712\n",
      "7    0.7  61.0  165.0   90.0   3.0  0.855712\n",
      "8    0.8  60.0  170.0   86.0   3.0  0.855712\n",
      "9    0.9  57.0  181.0   78.0   3.0  0.855712\n",
      "10   1.0  52.0  188.0   76.0   3.0  0.855712 \n",
      "\n",
      "    time     S      I      R  beta     gamma\n",
      "0    0.0  54.0  132.0  130.0   3.0  0.855712\n",
      "1    0.1  53.0  138.0  125.0   3.0  0.855712\n",
      "2    0.2  59.0  140.0  117.0   3.0  0.855712\n",
      "3    0.3  57.0  146.0  113.0   3.0  0.855712\n",
      "4    0.4  58.0  151.0  107.0   3.0  0.855712\n",
      "5    0.5  57.0  157.0  102.0   3.0  0.855712\n",
      "6    0.6  50.0  167.0   99.0   3.0  0.855712\n",
      "7    0.7  51.0  173.0   92.0   3.0  0.855712\n",
      "8    0.8  48.0  179.0   89.0   3.0  0.855712\n",
      "9    0.9  49.0  179.0   88.0   3.0  0.855712\n",
      "10   1.0  49.0  182.0   85.0   3.0  0.855712 \n",
      "\n"
     ]
    }
   ],
   "source": [
    "print(\"two initial settings, one trajectory for each (note the randomised parameter values):\\n\")\n",
    "for block in dataset:\n",
    "    df = pd.DataFrame(block, columns=[\"time\", \"S\", \"I\", \"R\", \"beta\", \"gamma\"])\n",
    "    print(df, \"\\n\")"
   ]
  },
  {
   "cell_type": "markdown",
   "id": "40852a2f",
   "metadata": {},
   "source": [
    "## Tellurium's Gillespie implementation"
   ]
  },
  {
   "cell_type": "code",
   "execution_count": 324,
   "id": "ce573539",
   "metadata": {},
   "outputs": [],
   "source": [
    "# Load SIR model from SBML\n",
    "model = te.loadSBMLModel(\"example.xml\")"
   ]
  },
  {
   "cell_type": "code",
   "execution_count": 325,
   "id": "4e52aee3",
   "metadata": {},
   "outputs": [],
   "source": [
    "# Configure simulator\n",
    "model.integrator = \"gillespie\"\n",
    "model.integrator.seed = 42"
   ]
  },
  {
   "cell_type": "code",
   "execution_count": 330,
   "id": "9a4efb49",
   "metadata": {},
   "outputs": [],
   "source": [
    "def randomize_parameters(model, sigma=0.1, n=1):\n",
    "    parameter_names = model.getGlobalParameterIds()\n",
    "    parameter_values = model.getGlobalParameterValues()\n",
    "\n",
    "    random_parameters = []\n",
    "    num_parameters = len(parameter_names)\n",
    "\n",
    "    for i in range(n):\n",
    "        iteration_parameters = {}\n",
    "\n",
    "        for j, (name, value) in enumerate(zip(parameter_names, parameter_values)):\n",
    "            if i % num_parameters == j:\n",
    "                shift = np.random.uniform(-sigma, sigma) * value\n",
    "                iteration_parameters[name] = value + shift\n",
    "            else:\n",
    "                # keep the default value for other parameters\n",
    "                iteration_parameters[name] = value\n",
    "\n",
    "        random_parameters.append(iteration_parameters)\n",
    "\n",
    "    return random_parameters\n",
    "\n",
    "\n",
    "def randomize_species_concentrations(model, n=1):\n",
    "    species_names = model.getFloatingSpeciesConcentrationIds()\n",
    "    species_values = model.getFloatingSpeciesConcentrations()\n",
    "\n",
    "    random_concentrations = []\n",
    "\n",
    "    for _ in range(n):\n",
    "        iteration_concentrations = {}\n",
    "\n",
    "        for name, value in zip(species_names, species_values):\n",
    "            low = max(0, int(value / 2))  # at least 0, since concentrations are (usually) whole numbers\n",
    "            high = int(value * 2)\n",
    "            iteration_concentrations[name] = np.random.randint(low, high)\n",
    "\n",
    "        random_concentrations.append(iteration_concentrations)\n",
    "\n",
    "    return random_concentrations\n",
    "\n",
    "def assign_custom_values(model, value_dict):\n",
    "    for prop_name, prop_value in value_dict.items():\n",
    "        model[prop_name] = prop_value\n",
    "        \n",
    "    return model"
   ]
  },
  {
   "cell_type": "code",
   "execution_count": 331,
   "id": "7c1bb301",
   "metadata": {},
   "outputs": [],
   "source": [
    "# Simulation configuration to mimic StochNetV2's\n",
    "initial_settings = 2\n",
    "simulations_per_setting = 2\n",
    "steps = 11\n",
    "end_time = 1.0"
   ]
  },
  {
   "cell_type": "code",
   "execution_count": 332,
   "id": "1168a068",
   "metadata": {},
   "outputs": [],
   "source": [
    "results = []\n",
    "\n",
    "# generate random initial concentrations and parameter variations\n",
    "init_concentrations = randomize_species_concentrations(model, initial_settings)\n",
    "randomized_parameters = randomize_parameters(model, 0.2, initial_settings)\n",
    "\n",
    "results = []\n",
    "for init_setting in range(initial_settings):\n",
    "    for _ in range(simulations_per_setting):\n",
    "        model.reset()\n",
    "        model = assign_custom_values(model, init_concentrations[init_setting])\n",
    "        model = assign_custom_values(model, randomized_parameters[init_setting])\n",
    "        sim = model.simulate(0.0, end_time, steps)\n",
    "            \n",
    "        results.append(sim)"
   ]
  },
  {
   "cell_type": "code",
   "execution_count": 333,
   "id": "2d827604",
   "metadata": {
    "scrolled": false
   },
   "outputs": [
    {
     "name": "stdout",
     "output_type": "stream",
     "text": [
      "    time    [I]    [R]   [S]     beta     gamma\n",
      "0    0.0  159.0  184.0  59.0  3.23487  0.815101\n",
      "1    0.1  149.0  200.0  53.0  3.23487  0.815101\n",
      "2    0.2  134.0  217.0  51.0  3.23487  0.815101\n",
      "3    0.3  131.0  230.0  41.0  3.23487  0.815101\n",
      "4    0.4  129.0  237.0  36.0  3.23487  0.815101\n",
      "5    0.5  124.0  247.0  31.0  3.23487  0.815101\n",
      "6    0.6  120.0  254.0  28.0  3.23487  0.815101\n",
      "7    0.7  112.0  262.0  28.0  3.23487  0.815101\n",
      "8    0.8  104.0  272.0  26.0  3.23487  0.815101\n",
      "9    0.9   97.0  279.0  26.0  3.23487  0.815101\n",
      "10   1.0   94.0  283.0  25.0  3.23487  0.815101 \n",
      "\n",
      "    time    [I]    [R]   [S]     beta     gamma\n",
      "0    0.0  159.0  184.0  59.0  3.23487  0.815101\n",
      "1    0.1  150.0  196.0  56.0  3.23487  0.815101\n",
      "2    0.2  140.0  210.0  52.0  3.23487  0.815101\n",
      "3    0.3  130.0  223.0  49.0  3.23487  0.815101\n",
      "4    0.4  127.0  232.0  43.0  3.23487  0.815101\n",
      "5    0.5  122.0  240.0  40.0  3.23487  0.815101\n",
      "6    0.6  116.0  249.0  37.0  3.23487  0.815101\n",
      "7    0.7  110.0  259.0  33.0  3.23487  0.815101\n",
      "8    0.8   99.0  272.0  31.0  3.23487  0.815101\n",
      "9    0.9   93.0  280.0  29.0  3.23487  0.815101\n",
      "10   1.0   87.0  289.0  26.0  3.23487  0.815101 \n",
      "\n",
      "    time   [I]    [R]   [S]  beta     gamma\n",
      "0    0.0  99.0  350.0  79.0   3.0  0.788639\n",
      "1    0.1  90.0  359.0  79.0   3.0  0.788639\n",
      "2    0.2  86.0  365.0  77.0   3.0  0.788639\n",
      "3    0.3  86.0  373.0  69.0   3.0  0.788639\n",
      "4    0.4  84.0  376.0  68.0   3.0  0.788639\n",
      "5    0.5  79.0  385.0  64.0   3.0  0.788639\n",
      "6    0.6  80.0  389.0  59.0   3.0  0.788639\n",
      "7    0.7  73.0  398.0  57.0   3.0  0.788639\n",
      "8    0.8  67.0  405.0  56.0   3.0  0.788639\n",
      "9    0.9  64.0  411.0  53.0   3.0  0.788639\n",
      "10   1.0  62.0  415.0  51.0   3.0  0.788639 \n",
      "\n",
      "    time   [I]    [R]   [S]  beta     gamma\n",
      "0    0.0  99.0  350.0  79.0   3.0  0.788639\n",
      "1    0.1  92.0  365.0  71.0   3.0  0.788639\n",
      "2    0.2  92.0  369.0  67.0   3.0  0.788639\n",
      "3    0.3  91.0  377.0  60.0   3.0  0.788639\n",
      "4    0.4  90.0  382.0  56.0   3.0  0.788639\n",
      "5    0.5  85.0  388.0  55.0   3.0  0.788639\n",
      "6    0.6  81.0  396.0  51.0   3.0  0.788639\n",
      "7    0.7  78.0  402.0  48.0   3.0  0.788639\n",
      "8    0.8  73.0  408.0  47.0   3.0  0.788639\n",
      "9    0.9  71.0  415.0  42.0   3.0  0.788639\n",
      "10   1.0  69.0  419.0  40.0   3.0  0.788639 \n",
      "\n"
     ]
    }
   ],
   "source": [
    "for i, block in enumerate(results):\n",
    "    df = pd.DataFrame(block, columns=block.colnames)\n",
    "    # Add the randomized parameters as new columns\n",
    "    for param_name, param_value in randomized_parameters[i // simulations_per_setting].items():\n",
    "        df[param_name] = param_value\n",
    "    print(df, \"\\n\")"
   ]
  },
  {
   "cell_type": "code",
   "execution_count": null,
   "id": "4ea6b2b9",
   "metadata": {},
   "outputs": [],
   "source": []
  }
 ],
 "metadata": {
  "kernelspec": {
   "display_name": "stochnet",
   "language": "python",
   "name": "stochnet"
  },
  "language_info": {
   "codemirror_mode": {
    "name": "ipython",
    "version": 3
   },
   "file_extension": ".py",
   "mimetype": "text/x-python",
   "name": "python",
   "nbconvert_exporter": "python",
   "pygments_lexer": "ipython3",
   "version": "3.10.11"
  }
 },
 "nbformat": 4,
 "nbformat_minor": 5
}
